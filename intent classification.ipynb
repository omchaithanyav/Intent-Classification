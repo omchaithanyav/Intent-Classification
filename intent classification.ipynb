{
 "cells": [
  {
   "cell_type": "markdown",
   "metadata": {},
   "source": [
    "# Intent Classification"
   ]
  },
  {
   "cell_type": "code",
   "execution_count": 1,
   "metadata": {
    "execution": {
     "iopub.execute_input": "2021-07-14T04:36:18.010542Z",
     "iopub.status.busy": "2021-07-14T04:36:18.010275Z",
     "iopub.status.idle": "2021-07-14T04:36:18.015239Z",
     "shell.execute_reply": "2021-07-14T04:36:18.014786Z",
     "shell.execute_reply.started": "2021-07-14T04:36:18.010519Z"
    }
   },
   "outputs": [],
   "source": [
    "# import the required libraries\n",
    "import numpy as np\n",
    "import pandas as pd\n",
    "import matplotlib.pyplot as plt\n",
    "from sklearn.utils import shuffle\n",
    "import keras\n",
    "from keras.layers import LSTM, Dropout, Dense, Activation, Flatten, Embedding\n",
    "from keras.preprocessing.text import Tokenizer\n",
    "from keras.preprocessing import sequence\n",
    "from keras.preprocessing.sequence import pad_sequences\n",
    "from keras.models import Sequential,Model,load_model\n",
    "from tensorflow.keras.optimizers import Adam\n",
    "import pickle\n",
    "import joblib"
   ]
  },
  {
   "cell_type": "code",
   "execution_count": 2,
   "metadata": {
    "execution": {
     "iopub.execute_input": "2021-07-14T04:36:18.016414Z",
     "iopub.status.busy": "2021-07-14T04:36:18.016255Z",
     "iopub.status.idle": "2021-07-14T04:36:18.036679Z",
     "shell.execute_reply": "2021-07-14T04:36:18.036241Z",
     "shell.execute_reply.started": "2021-07-14T04:36:18.016396Z"
    }
   },
   "outputs": [
    {
     "data": {
      "text/html": [
       "<div>\n",
       "<style scoped>\n",
       "    .dataframe tbody tr th:only-of-type {\n",
       "        vertical-align: middle;\n",
       "    }\n",
       "\n",
       "    .dataframe tbody tr th {\n",
       "        vertical-align: top;\n",
       "    }\n",
       "\n",
       "    .dataframe thead th {\n",
       "        text-align: right;\n",
       "    }\n",
       "</style>\n",
       "<table border=\"1\" class=\"dataframe\">\n",
       "  <thead>\n",
       "    <tr style=\"text-align: right;\">\n",
       "      <th></th>\n",
       "      <th>sentence</th>\n",
       "      <th>BookRestaurant</th>\n",
       "      <th>GetWeather</th>\n",
       "      <th>PlayMusic</th>\n",
       "      <th>RateBook</th>\n",
       "    </tr>\n",
       "  </thead>\n",
       "  <tbody>\n",
       "    <tr>\n",
       "      <th>0</th>\n",
       "      <td>book The Middle East restaurant in IN for noon</td>\n",
       "      <td>1</td>\n",
       "      <td>0</td>\n",
       "      <td>0</td>\n",
       "      <td>0</td>\n",
       "    </tr>\n",
       "    <tr>\n",
       "      <th>1</th>\n",
       "      <td>Book a table at T-Rex distant from Halsey St.</td>\n",
       "      <td>1</td>\n",
       "      <td>0</td>\n",
       "      <td>0</td>\n",
       "      <td>0</td>\n",
       "    </tr>\n",
       "    <tr>\n",
       "      <th>2</th>\n",
       "      <td>I'd like to eat at a taverna that serves chili...</td>\n",
       "      <td>1</td>\n",
       "      <td>0</td>\n",
       "      <td>0</td>\n",
       "      <td>0</td>\n",
       "    </tr>\n",
       "    <tr>\n",
       "      <th>3</th>\n",
       "      <td>I have a party of four in Japan and need a res...</td>\n",
       "      <td>1</td>\n",
       "      <td>0</td>\n",
       "      <td>0</td>\n",
       "      <td>0</td>\n",
       "    </tr>\n",
       "    <tr>\n",
       "      <th>4</th>\n",
       "      <td>Please make a restaurant reservation for somew...</td>\n",
       "      <td>1</td>\n",
       "      <td>0</td>\n",
       "      <td>0</td>\n",
       "      <td>0</td>\n",
       "    </tr>\n",
       "  </tbody>\n",
       "</table>\n",
       "</div>"
      ],
      "text/plain": [
       "                                            sentence  BookRestaurant  \\\n",
       "0     book The Middle East restaurant in IN for noon               1   \n",
       "1      Book a table at T-Rex distant from Halsey St.               1   \n",
       "2  I'd like to eat at a taverna that serves chili...               1   \n",
       "3  I have a party of four in Japan and need a res...               1   \n",
       "4  Please make a restaurant reservation for somew...               1   \n",
       "\n",
       "   GetWeather  PlayMusic  RateBook  \n",
       "0           0          0         0  \n",
       "1           0          0         0  \n",
       "2           0          0         0  \n",
       "3           0          0         0  \n",
       "4           0          0         0  "
      ]
     },
     "execution_count": 2,
     "metadata": {},
     "output_type": "execute_result"
    }
   ],
   "source": [
    "# read into csv file\n",
    "\n",
    "df = pd.read_csv('train.csv')\n",
    "df.head()"
   ]
  },
  {
   "cell_type": "code",
   "execution_count": 3,
   "metadata": {
    "execution": {
     "iopub.execute_input": "2021-07-14T04:36:18.037732Z",
     "iopub.status.busy": "2021-07-14T04:36:18.037577Z",
     "iopub.status.idle": "2021-07-14T04:36:18.045108Z",
     "shell.execute_reply": "2021-07-14T04:36:18.044676Z",
     "shell.execute_reply.started": "2021-07-14T04:36:18.037716Z"
    }
   },
   "outputs": [
    {
     "data": {
      "text/html": [
       "<div>\n",
       "<style scoped>\n",
       "    .dataframe tbody tr th:only-of-type {\n",
       "        vertical-align: middle;\n",
       "    }\n",
       "\n",
       "    .dataframe tbody tr th {\n",
       "        vertical-align: top;\n",
       "    }\n",
       "\n",
       "    .dataframe thead th {\n",
       "        text-align: right;\n",
       "    }\n",
       "</style>\n",
       "<table border=\"1\" class=\"dataframe\">\n",
       "  <thead>\n",
       "    <tr style=\"text-align: right;\">\n",
       "      <th></th>\n",
       "      <th>sentence</th>\n",
       "      <th>BookRestaurant</th>\n",
       "      <th>GetWeather</th>\n",
       "      <th>PlayMusic</th>\n",
       "      <th>RateBook</th>\n",
       "    </tr>\n",
       "  </thead>\n",
       "  <tbody>\n",
       "    <tr>\n",
       "      <th>2132</th>\n",
       "      <td>Will it be chilly at Boggs Mountain Demonstrat...</td>\n",
       "      <td>0</td>\n",
       "      <td>1</td>\n",
       "      <td>0</td>\n",
       "      <td>0</td>\n",
       "    </tr>\n",
       "    <tr>\n",
       "      <th>4018</th>\n",
       "      <td>Open up Lastfm and play some songs.</td>\n",
       "      <td>0</td>\n",
       "      <td>0</td>\n",
       "      <td>1</td>\n",
       "      <td>0</td>\n",
       "    </tr>\n",
       "    <tr>\n",
       "      <th>3360</th>\n",
       "      <td>What's the weather in Dazey</td>\n",
       "      <td>0</td>\n",
       "      <td>1</td>\n",
       "      <td>0</td>\n",
       "      <td>0</td>\n",
       "    </tr>\n",
       "    <tr>\n",
       "      <th>1369</th>\n",
       "      <td>I want to book a table for a party of 4 at a t...</td>\n",
       "      <td>1</td>\n",
       "      <td>0</td>\n",
       "      <td>0</td>\n",
       "      <td>0</td>\n",
       "    </tr>\n",
       "    <tr>\n",
       "      <th>5553</th>\n",
       "      <td>Open The Second Adventure album by Hans Nilsson</td>\n",
       "      <td>0</td>\n",
       "      <td>0</td>\n",
       "      <td>1</td>\n",
       "      <td>0</td>\n",
       "    </tr>\n",
       "  </tbody>\n",
       "</table>\n",
       "</div>"
      ],
      "text/plain": [
       "                                               sentence  BookRestaurant  \\\n",
       "2132  Will it be chilly at Boggs Mountain Demonstrat...               0   \n",
       "4018                Open up Lastfm and play some songs.               0   \n",
       "3360                        What's the weather in Dazey               0   \n",
       "1369  I want to book a table for a party of 4 at a t...               1   \n",
       "5553    Open The Second Adventure album by Hans Nilsson               0   \n",
       "\n",
       "      GetWeather  PlayMusic  RateBook  \n",
       "2132           1          0         0  \n",
       "4018           0          1         0  \n",
       "3360           1          0         0  \n",
       "1369           0          0         0  \n",
       "5553           0          1         0  "
      ]
     },
     "execution_count": 3,
     "metadata": {},
     "output_type": "execute_result"
    }
   ],
   "source": [
    "# shuffle data\n",
    "df = shuffle(df)\n",
    "df.head()"
   ]
  },
  {
   "cell_type": "code",
   "execution_count": 4,
   "metadata": {},
   "outputs": [
    {
     "data": {
      "text/plain": [
       "(7929, 5)"
      ]
     },
     "execution_count": 4,
     "metadata": {},
     "output_type": "execute_result"
    }
   ],
   "source": [
    "df.shape"
   ]
  },
  {
   "cell_type": "code",
   "execution_count": 5,
   "metadata": {},
   "outputs": [
    {
     "name": "stdout",
     "output_type": "stream",
     "text": [
      "<class 'pandas.core.frame.DataFrame'>\n",
      "Int64Index: 7929 entries, 2132 to 7132\n",
      "Data columns (total 5 columns):\n",
      " #   Column          Non-Null Count  Dtype \n",
      "---  ------          --------------  ----- \n",
      " 0   sentence        7929 non-null   object\n",
      " 1   BookRestaurant  7929 non-null   int64 \n",
      " 2   GetWeather      7929 non-null   int64 \n",
      " 3   PlayMusic       7929 non-null   int64 \n",
      " 4   RateBook        7929 non-null   int64 \n",
      "dtypes: int64(4), object(1)\n",
      "memory usage: 371.7+ KB\n"
     ]
    }
   ],
   "source": [
    "df.info()"
   ]
  },
  {
   "cell_type": "code",
   "execution_count": 6,
   "metadata": {},
   "outputs": [
    {
     "data": {
      "text/plain": [
       "sentence          0\n",
       "BookRestaurant    0\n",
       "GetWeather        0\n",
       "PlayMusic         0\n",
       "RateBook          0\n",
       "dtype: int64"
      ]
     },
     "execution_count": 6,
     "metadata": {},
     "output_type": "execute_result"
    }
   ],
   "source": [
    "df.isnull().sum()"
   ]
  },
  {
   "cell_type": "code",
   "execution_count": 7,
   "metadata": {},
   "outputs": [
    {
     "data": {
      "text/plain": [
       "0    5956\n",
       "1    1973\n",
       "Name: BookRestaurant, dtype: int64"
      ]
     },
     "execution_count": 7,
     "metadata": {},
     "output_type": "execute_result"
    }
   ],
   "source": [
    "df['BookRestaurant'].value_counts()"
   ]
  },
  {
   "cell_type": "code",
   "execution_count": 8,
   "metadata": {},
   "outputs": [
    {
     "data": {
      "text/plain": [
       "0    5929\n",
       "1    2000\n",
       "Name: GetWeather, dtype: int64"
      ]
     },
     "execution_count": 8,
     "metadata": {},
     "output_type": "execute_result"
    }
   ],
   "source": [
    "df['GetWeather'].value_counts()"
   ]
  },
  {
   "cell_type": "code",
   "execution_count": 9,
   "metadata": {},
   "outputs": [
    {
     "data": {
      "text/plain": [
       "0    5929\n",
       "1    2000\n",
       "Name: PlayMusic, dtype: int64"
      ]
     },
     "execution_count": 9,
     "metadata": {},
     "output_type": "execute_result"
    }
   ],
   "source": [
    "df['PlayMusic'].value_counts()       "
   ]
  },
  {
   "cell_type": "code",
   "execution_count": 10,
   "metadata": {},
   "outputs": [
    {
     "data": {
      "text/plain": [
       "0    5973\n",
       "1    1956\n",
       "Name: RateBook, dtype: int64"
      ]
     },
     "execution_count": 10,
     "metadata": {},
     "output_type": "execute_result"
    }
   ],
   "source": [
    "df['RateBook'].value_counts()   "
   ]
  },
  {
   "cell_type": "markdown",
   "metadata": {},
   "source": [
    "Data seems to be clean"
   ]
  },
  {
   "cell_type": "code",
   "execution_count": 11,
   "metadata": {
    "execution": {
     "iopub.execute_input": "2021-07-14T04:36:18.045862Z",
     "iopub.status.busy": "2021-07-14T04:36:18.045720Z",
     "iopub.status.idle": "2021-07-14T04:36:18.049948Z",
     "shell.execute_reply": "2021-07-14T04:36:18.049505Z",
     "shell.execute_reply.started": "2021-07-14T04:36:18.045846Z"
    }
   },
   "outputs": [],
   "source": [
    "X_train = df[\"sentence\"].fillna(\"fillna\").values\n",
    "y_train = df[[\"BookRestaurant\", \"GetWeather\", \"PlayMusic\", \"RateBook\"]].values"
   ]
  },
  {
   "cell_type": "code",
   "execution_count": 12,
   "metadata": {
    "execution": {
     "iopub.execute_input": "2021-07-14T04:36:18.050711Z",
     "iopub.status.busy": "2021-07-14T04:36:18.050560Z",
     "iopub.status.idle": "2021-07-14T04:36:18.053930Z",
     "shell.execute_reply": "2021-07-14T04:36:18.053476Z",
     "shell.execute_reply.started": "2021-07-14T04:36:18.050694Z"
    }
   },
   "outputs": [
    {
     "data": {
      "text/plain": [
       "((7929,), (7929, 4))"
      ]
     },
     "execution_count": 12,
     "metadata": {},
     "output_type": "execute_result"
    }
   ],
   "source": [
    "X_train.shape, y_train.shape"
   ]
  },
  {
   "cell_type": "code",
   "execution_count": 13,
   "metadata": {
    "execution": {
     "iopub.execute_input": "2021-07-14T04:36:18.054691Z",
     "iopub.status.busy": "2021-07-14T04:36:18.054548Z",
     "iopub.status.idle": "2021-07-14T04:36:18.058399Z",
     "shell.execute_reply": "2021-07-14T04:36:18.057836Z",
     "shell.execute_reply.started": "2021-07-14T04:36:18.054675Z"
    }
   },
   "outputs": [
    {
     "data": {
      "text/plain": [
       "('Open up Lastfm and play some songs.', array([0, 0, 1, 0], dtype=int64))"
      ]
     },
     "execution_count": 13,
     "metadata": {},
     "output_type": "execute_result"
    }
   ],
   "source": [
    "X_train[1], y_train[1] "
   ]
  },
  {
   "cell_type": "markdown",
   "metadata": {},
   "source": [
    "# Preprocessing"
   ]
  },
  {
   "cell_type": "code",
   "execution_count": 14,
   "metadata": {
    "execution": {
     "iopub.execute_input": "2021-07-14T04:36:18.059281Z",
     "iopub.status.busy": "2021-07-14T04:36:18.059108Z",
     "iopub.status.idle": "2021-07-14T04:36:18.062010Z",
     "shell.execute_reply": "2021-07-14T04:36:18.061564Z",
     "shell.execute_reply.started": "2021-07-14T04:36:18.059264Z"
    }
   },
   "outputs": [],
   "source": [
    "text = X_train"
   ]
  },
  {
   "cell_type": "code",
   "execution_count": 15,
   "metadata": {
    "execution": {
     "iopub.execute_input": "2021-07-14T04:36:18.063651Z",
     "iopub.status.busy": "2021-07-14T04:36:18.063492Z",
     "iopub.status.idle": "2021-07-14T04:36:18.066498Z",
     "shell.execute_reply": "2021-07-14T04:36:18.066045Z",
     "shell.execute_reply.started": "2021-07-14T04:36:18.063634Z"
    }
   },
   "outputs": [],
   "source": [
    "Tokenizer = Tokenizer()"
   ]
  },
  {
   "cell_type": "code",
   "execution_count": 16,
   "metadata": {
    "execution": {
     "iopub.execute_input": "2021-07-14T04:36:18.067682Z",
     "iopub.status.busy": "2021-07-14T04:36:18.067524Z",
     "iopub.status.idle": "2021-07-14T04:36:18.283426Z",
     "shell.execute_reply": "2021-07-14T04:36:18.282909Z",
     "shell.execute_reply.started": "2021-07-14T04:36:18.067665Z"
    }
   },
   "outputs": [
    {
     "data": {
      "text/plain": [
       "7522"
      ]
     },
     "execution_count": 16,
     "metadata": {},
     "output_type": "execute_result"
    }
   ],
   "source": [
    "# text preprocessing\n",
    "Tokenizer.fit_on_texts(text) \n",
    "Tokenizer_vocab_size = len(Tokenizer.word_index)+1\n",
    "Tokenizer_vocab_size"
   ]
  },
  {
   "cell_type": "code",
   "execution_count": 17,
   "metadata": {
    "execution": {
     "iopub.execute_input": "2021-07-14T04:36:18.284349Z",
     "iopub.status.busy": "2021-07-14T04:36:18.284181Z",
     "iopub.status.idle": "2021-07-14T04:36:18.287689Z",
     "shell.execute_reply": "2021-07-14T04:36:18.287177Z",
     "shell.execute_reply.started": "2021-07-14T04:36:18.284330Z"
    }
   },
   "outputs": [
    {
     "data": {
      "text/plain": [
       "((7929,), (7929, 4))"
      ]
     },
     "execution_count": 17,
     "metadata": {},
     "output_type": "execute_result"
    }
   ],
   "source": [
    "X_train.shape, y_train.shape"
   ]
  },
  {
   "cell_type": "code",
   "execution_count": 18,
   "metadata": {
    "execution": {
     "iopub.execute_input": "2021-07-14T04:36:18.288584Z",
     "iopub.status.busy": "2021-07-14T04:36:18.288424Z",
     "iopub.status.idle": "2021-07-14T04:36:18.291829Z",
     "shell.execute_reply": "2021-07-14T04:36:18.291294Z",
     "shell.execute_reply.started": "2021-07-14T04:36:18.288565Z"
    }
   },
   "outputs": [],
   "source": [
    "samples = 2500\n",
    "\n",
    "X_train = X_train[samples:] \n",
    "y_train = y_train[samples:] \n",
    "\n",
    "X_val = X_train[:samples] \n",
    "y_val = y_train[:samples] "
   ]
  },
  {
   "cell_type": "code",
   "execution_count": 19,
   "metadata": {
    "execution": {
     "iopub.execute_input": "2021-07-14T04:36:18.292646Z",
     "iopub.status.busy": "2021-07-14T04:36:18.292494Z",
     "iopub.status.idle": "2021-07-14T04:36:18.296730Z",
     "shell.execute_reply": "2021-07-14T04:36:18.296227Z",
     "shell.execute_reply.started": "2021-07-14T04:36:18.292628Z"
    }
   },
   "outputs": [
    {
     "data": {
      "text/plain": [
       "((5429,), (5429, 4))"
      ]
     },
     "execution_count": 19,
     "metadata": {},
     "output_type": "execute_result"
    }
   ],
   "source": [
    "X_train.shape, y_train.shape"
   ]
  },
  {
   "cell_type": "code",
   "execution_count": 20,
   "metadata": {
    "execution": {
     "iopub.execute_input": "2021-07-14T04:36:18.297555Z",
     "iopub.status.busy": "2021-07-14T04:36:18.297406Z",
     "iopub.status.idle": "2021-07-14T04:36:18.369577Z",
     "shell.execute_reply": "2021-07-14T04:36:18.369057Z",
     "shell.execute_reply.started": "2021-07-14T04:36:18.297538Z"
    }
   },
   "outputs": [],
   "source": [
    "X_train_encoded_words = Tokenizer.texts_to_sequences(X_train)  # refer: https://stackoverflow.com/questions/54891464/is-it-better-to-keras-fit-to-text-on-the-entire-x-data-or-just-the-train-data\n",
    "X_val_encoded_words = Tokenizer.texts_to_sequences(X_val)"
   ]
  },
  {
   "cell_type": "code",
   "execution_count": 21,
   "metadata": {
    "execution": {
     "iopub.execute_input": "2021-07-14T04:36:18.370449Z",
     "iopub.status.busy": "2021-07-14T04:36:18.370237Z",
     "iopub.status.idle": "2021-07-14T04:36:18.401090Z",
     "shell.execute_reply": "2021-07-14T04:36:18.400591Z",
     "shell.execute_reply.started": "2021-07-14T04:36:18.370429Z"
    }
   },
   "outputs": [
    {
     "data": {
      "text/plain": [
       "((5429, 100), (2500, 100))"
      ]
     },
     "execution_count": 21,
     "metadata": {},
     "output_type": "execute_result"
    }
   ],
   "source": [
    "X_train_encoded_padded_words = sequence.pad_sequences(X_train_encoded_words, maxlen = 100)  # refer: https://www.tensorflow.org/api_docs/python/tf/keras/preprocessing/sequence/pad_sequences\n",
    "X_val_encoded_padded_words = sequence.pad_sequences(X_val_encoded_words, maxlen = 100)\n",
    "\n",
    "X_train_encoded_padded_words.shape, X_val_encoded_padded_words.shape"
   ]
  },
  {
   "cell_type": "code",
   "execution_count": 22,
   "metadata": {
    "execution": {
     "iopub.execute_input": "2021-07-14T04:36:18.401869Z",
     "iopub.status.busy": "2021-07-14T04:36:18.401711Z",
     "iopub.status.idle": "2021-07-14T04:36:18.405527Z",
     "shell.execute_reply": "2021-07-14T04:36:18.405035Z",
     "shell.execute_reply.started": "2021-07-14T04:36:18.401852Z"
    }
   },
   "outputs": [
    {
     "data": {
      "text/plain": [
       "(array([[   0,    0,    0, ...,    3, 1907,  154],\n",
       "        [   0,    0,    0, ...,   47,   13, 1199],\n",
       "        [   0,    0,    0, ...,   42, 1215,   31],\n",
       "        ...,\n",
       "        [   0,    0,    0, ...,    9,   27,   62],\n",
       "        [   0,    0,    0, ...,    3,   53,  206],\n",
       "        [   0,    0,    0, ...,   24, 5711, 5712]]),\n",
       " array([[   0,    0,    0, ...,    3, 1907,  154],\n",
       "        [   0,    0,    0, ...,   47,   13, 1199],\n",
       "        [   0,    0,    0, ...,   42, 1215,   31],\n",
       "        ...,\n",
       "        [   0,    0,    0, ...,   62,    1,   44],\n",
       "        [   0,    0,    0, ...,    5,   11,   32],\n",
       "        [   0,    0,    0, ...,    5,   11,   30]]))"
      ]
     },
     "execution_count": 22,
     "metadata": {},
     "output_type": "execute_result"
    }
   ],
   "source": [
    "X_val_encoded_padded_words, X_train_encoded_padded_words"
   ]
  },
  {
   "cell_type": "code",
   "execution_count": 23,
   "metadata": {
    "execution": {
     "iopub.execute_input": "2021-07-14T04:36:18.406291Z",
     "iopub.status.busy": "2021-07-14T04:36:18.406143Z",
     "iopub.status.idle": "2021-07-14T04:36:18.409714Z",
     "shell.execute_reply": "2021-07-14T04:36:18.409206Z",
     "shell.execute_reply.started": "2021-07-14T04:36:18.406274Z"
    }
   },
   "outputs": [
    {
     "data": {
      "text/plain": [
       "((5429, 4), (2500, 4))"
      ]
     },
     "execution_count": 23,
     "metadata": {},
     "output_type": "execute_result"
    }
   ],
   "source": [
    "y_train.shape, y_val.shape"
   ]
  },
  {
   "cell_type": "markdown",
   "metadata": {},
   "source": [
    "# Build and Train the Model"
   ]
  },
  {
   "cell_type": "code",
   "execution_count": 24,
   "metadata": {
    "execution": {
     "iopub.execute_input": "2021-07-14T04:36:18.410538Z",
     "iopub.status.busy": "2021-07-14T04:36:18.410391Z",
     "iopub.status.idle": "2021-07-14T04:36:18.607880Z",
     "shell.execute_reply": "2021-07-14T04:36:18.607337Z",
     "shell.execute_reply.started": "2021-07-14T04:36:18.410521Z"
    }
   },
   "outputs": [
    {
     "name": "stdout",
     "output_type": "stream",
     "text": [
      "Model: \"sequential\"\n",
      "_________________________________________________________________\n",
      "Layer (type)                 Output Shape              Param #   \n",
      "=================================================================\n",
      "embedding (Embedding)        (None, 100, 32)           240704    \n",
      "_________________________________________________________________\n",
      "lstm (LSTM)                  (None, 10)                1720      \n",
      "_________________________________________________________________\n",
      "dropout (Dropout)            (None, 10)                0         \n",
      "_________________________________________________________________\n",
      "dense (Dense)                (None, 400)               4400      \n",
      "_________________________________________________________________\n",
      "dropout_1 (Dropout)          (None, 400)               0         \n",
      "_________________________________________________________________\n",
      "dense_1 (Dense)              (None, 4)                 1604      \n",
      "=================================================================\n",
      "Total params: 248,428\n",
      "Trainable params: 248,428\n",
      "Non-trainable params: 0\n",
      "_________________________________________________________________\n"
     ]
    }
   ],
   "source": [
    "model = Sequential()\n",
    "\n",
    "model.add(Embedding(Tokenizer_vocab_size, 32, input_length = 100))  # refer: https://machinelearningmastery.com/use-word-embedding-layers-deep-learning-keras/\n",
    "\n",
    "model.add(LSTM(10))\n",
    "model.add(Dropout(0.5))\n",
    "model.add(Dense(400, activation='relu'))\n",
    "model.add(Dropout(0.5))\n",
    "#model.add(Dense(120, activation='relu'))\n",
    "#model.add(Dropout(0.5))\n",
    "model.add(Dense(4, activation='softmax'))\n",
    "\n",
    "model.summary()"
   ]
  },
  {
   "cell_type": "code",
   "execution_count": 25,
   "metadata": {
    "execution": {
     "iopub.execute_input": "2021-07-14T04:36:18.608774Z",
     "iopub.status.busy": "2021-07-14T04:36:18.608618Z",
     "iopub.status.idle": "2021-07-14T04:36:18.617626Z",
     "shell.execute_reply": "2021-07-14T04:36:18.617143Z",
     "shell.execute_reply.started": "2021-07-14T04:36:18.608756Z"
    }
   },
   "outputs": [],
   "source": [
    "model.compile(loss='categorical_crossentropy', optimizer='adam', metrics=['accuracy']) "
   ]
  },
  {
   "cell_type": "code",
   "execution_count": 26,
   "metadata": {
    "execution": {
     "iopub.execute_input": "2021-07-14T04:36:18.618553Z",
     "iopub.status.busy": "2021-07-14T04:36:18.618401Z",
     "iopub.status.idle": "2021-07-14T04:36:24.056899Z",
     "shell.execute_reply": "2021-07-14T04:36:24.056374Z",
     "shell.execute_reply.started": "2021-07-14T04:36:18.618536Z"
    }
   },
   "outputs": [
    {
     "name": "stdout",
     "output_type": "stream",
     "text": [
      "Epoch 1/3\n",
      "170/170 [==============================] - 21s 27ms/step - loss: 1.0868 - accuracy: 0.5340 - val_loss: 0.2713 - val_accuracy: 0.9388\n",
      "Epoch 2/3\n",
      "170/170 [==============================] - 4s 22ms/step - loss: 0.2280 - accuracy: 0.9183 - val_loss: 0.0107 - val_accuracy: 0.9980\n",
      "Epoch 3/3\n",
      "170/170 [==============================] - 4s 22ms/step - loss: 0.0800 - accuracy: 0.9747 - val_loss: 0.0057 - val_accuracy: 0.9988\n"
     ]
    }
   ],
   "source": [
    "history  = model.fit(X_train_encoded_padded_words,y_train, epochs = 3, batch_size=32, verbose=1, validation_data=(X_val_encoded_padded_words, y_val))"
   ]
  },
  {
   "cell_type": "markdown",
   "metadata": {},
   "source": [
    "What is verbose=1 ? refer this link: https://stackoverflow.com/questions/47902295/what-is-the-use-of-verbose-in-keras-while-validating-the-model"
   ]
  },
  {
   "cell_type": "markdown",
   "metadata": {
    "execution": {
     "iopub.execute_input": "2021-07-11T11:05:57.986361Z",
     "iopub.status.busy": "2021-07-11T11:05:57.986134Z",
     "iopub.status.idle": "2021-07-11T11:05:57.999180Z",
     "shell.execute_reply": "2021-07-11T11:05:57.998555Z",
     "shell.execute_reply.started": "2021-07-11T11:05:57.986341Z"
    }
   },
   "source": [
    "# Plots"
   ]
  },
  {
   "cell_type": "code",
   "execution_count": 27,
   "metadata": {
    "execution": {
     "iopub.execute_input": "2021-07-14T04:36:24.087423Z",
     "iopub.status.busy": "2021-07-14T04:36:24.087169Z",
     "iopub.status.idle": "2021-07-14T04:36:24.218249Z",
     "shell.execute_reply": "2021-07-14T04:36:24.217630Z",
     "shell.execute_reply.started": "2021-07-14T04:36:24.087392Z"
    }
   },
   "outputs": [
    {
     "data": {
      "image/png": "[encoded data removed]",
      "text/plain": [
       "<Figure size 432x288 with 1 Axes>"
      ]
     },
     "metadata": {
      "needs_background": "light"
     },
     "output_type": "display_data"
    }
   ],
   "source": [
    "#loss\n",
    "from matplotlib import pyplot as plt\n",
    "plt.plot(history.history['loss'])\n",
    "plt.plot(history.history['val_loss'])\n",
    "plt.title('model loss')\n",
    "plt.ylabel('loss')\n",
    "plt.xlabel('epoch')\n",
    "plt.legend(['train', 'validation'], loc='upper right')\n",
    "plt.show()"
   ]
  },
  {
   "cell_type": "code",
   "execution_count": 28,
   "metadata": {
    "execution": {
     "iopub.execute_input": "2021-07-14T04:36:24.219516Z",
     "iopub.status.busy": "2021-07-14T04:36:24.219263Z",
     "iopub.status.idle": "2021-07-14T04:36:24.345221Z",
     "shell.execute_reply": "2021-07-14T04:36:24.344632Z",
     "shell.execute_reply.started": "2021-07-14T04:36:24.219486Z"
    }
   },
   "outputs": [
    {
     "data": {
      "image/png": "[encoded data removed]",
      "text/plain": [
       "<Figure size 432x288 with 1 Axes>"
      ]
     },
     "metadata": {
      "needs_background": "light"
     },
     "output_type": "display_data"
    }
   ],
   "source": [
    "#accuracy\n",
    "from matplotlib import pyplot as plt\n",
    "plt.plot(history.history['accuracy'])\n",
    "plt.plot(history.history['val_accuracy'])\n",
    "plt.title('model accuracy')\n",
    "plt.ylabel('accuracy')\n",
    "plt.xlabel('epoch')\n",
    "plt.legend(['train', 'validation'], loc='lower right')\n",
    "plt.show()"
   ]
  },
  {
   "cell_type": "markdown",
   "metadata": {},
   "source": [
    "# Loss and Accuracy "
   ]
  },
  {
   "cell_type": "code",
   "execution_count": 29,
   "metadata": {
    "execution": {
     "iopub.execute_input": "2021-07-14T04:36:24.346420Z",
     "iopub.status.busy": "2021-07-14T04:36:24.346189Z",
     "iopub.status.idle": "2021-07-14T04:36:24.572600Z",
     "shell.execute_reply": "2021-07-14T04:36:24.572136Z",
     "shell.execute_reply.started": "2021-07-14T04:36:24.346392Z"
    }
   },
   "outputs": [
    {
     "name": "stdout",
     "output_type": "stream",
     "text": [
      "79/79 [==============================] - 0s 5ms/step - loss: 0.0057 - accuracy: 0.9988\n"
     ]
    },
    {
     "data": {
      "text/plain": [
       "[0.005698034074157476, 0.9987999796867371]"
      ]
     },
     "execution_count": 29,
     "metadata": {},
     "output_type": "execute_result"
    }
   ],
   "source": [
    "model.evaluate(X_val_encoded_padded_words, y_val)"
   ]
  },
  {
   "cell_type": "markdown",
   "metadata": {},
   "source": [
    "# Predictions "
   ]
  },
  {
   "cell_type": "code",
   "execution_count": 30,
   "metadata": {
    "execution": {
     "iopub.execute_input": "2021-07-14T04:36:24.058124Z",
     "iopub.status.busy": "2021-07-14T04:36:24.057908Z",
     "iopub.status.idle": "2021-07-14T04:36:24.086269Z",
     "shell.execute_reply": "2021-07-14T04:36:24.085807Z",
     "shell.execute_reply.started": "2021-07-14T04:36:24.058094Z"
    }
   },
   "outputs": [],
   "source": [
    "# save the model and tokenizer\n",
    "pickle.dump(Tokenizer, open('models/tokenizer.pkl','wb'))\n",
    "model.save(\"models/Intent_Classification.h5\")"
   ]
  },
  {
   "cell_type": "code",
   "execution_count": 31,
   "metadata": {},
   "outputs": [],
   "source": [
    "# load the saved model  and tokenizer\n",
    "saved_model = keras.models.load_model('models/Intent_Classification.h5')\n",
    "Tokenizer = pickle.load(open('models/tokenizer.pkl','rb'))"
   ]
  },
  {
   "cell_type": "code",
   "execution_count": 32,
   "metadata": {
    "execution": {
     "iopub.execute_input": "2021-07-14T04:36:51.190623Z",
     "iopub.status.busy": "2021-07-14T04:36:51.190398Z",
     "iopub.status.idle": "2021-07-14T04:36:51.194179Z",
     "shell.execute_reply": "2021-07-14T04:36:51.193670Z",
     "shell.execute_reply.started": "2021-07-14T04:36:51.190601Z"
    }
   },
   "outputs": [],
   "source": [
    "def predict(text):\n",
    "    sentence = text\n",
    "    tokens = Tokenizer.texts_to_sequences([text])\n",
    "    tokens = pad_sequences(tokens, maxlen = 100)\n",
    "    prediction = saved_model.predict(np.array(tokens))\n",
    "    pred = np.argmax(prediction)\n",
    "    classes = ['BookRestaurant','GetWeather','PlayMusic','RateBook']\n",
    "    result = classes[pred]\n",
    "    return pred,result"
   ]
  },
  {
   "cell_type": "code",
   "execution_count": 33,
   "metadata": {
    "execution": {
     "iopub.execute_input": "2021-07-14T04:36:51.713098Z",
     "iopub.status.busy": "2021-07-14T04:36:51.712937Z",
     "iopub.status.idle": "2021-07-14T04:36:51.982896Z",
     "shell.execute_reply": "2021-07-14T04:36:51.982239Z",
     "shell.execute_reply.started": "2021-07-14T04:36:51.713080Z"
    }
   },
   "outputs": [
    {
     "data": {
      "text/plain": [
       "(1, 'GetWeather')"
      ]
     },
     "execution_count": 33,
     "metadata": {},
     "output_type": "execute_result"
    }
   ],
   "source": [
    "predict(\"is it raining ?\")"
   ]
  },
  {
   "cell_type": "code",
   "execution_count": 34,
   "metadata": {
    "execution": {
     "iopub.execute_input": "2021-07-14T04:36:53.525291Z",
     "iopub.status.busy": "2021-07-14T04:36:53.525073Z",
     "iopub.status.idle": "2021-07-14T04:36:53.558267Z",
     "shell.execute_reply": "2021-07-14T04:36:53.557591Z",
     "shell.execute_reply.started": "2021-07-14T04:36:53.525268Z"
    }
   },
   "outputs": [
    {
     "data": {
      "text/plain": [
       "(0, 'BookRestaurant')"
      ]
     },
     "execution_count": 34,
     "metadata": {},
     "output_type": "execute_result"
    }
   ],
   "source": [
    "predict(\"i would like to book a table at hotel Orion for 29th june\")"
   ]
  },
  {
   "cell_type": "code",
   "execution_count": 35,
   "metadata": {
    "execution": {
     "iopub.execute_input": "2021-07-14T04:36:54.371833Z",
     "iopub.status.busy": "2021-07-14T04:36:54.371665Z",
     "iopub.status.idle": "2021-07-14T04:36:54.402797Z",
     "shell.execute_reply": "2021-07-14T04:36:54.402212Z",
     "shell.execute_reply.started": "2021-07-14T04:36:54.371814Z"
    }
   },
   "outputs": [
    {
     "data": {
      "text/plain": [
       "(2, 'PlayMusic')"
      ]
     },
     "execution_count": 35,
     "metadata": {},
     "output_type": "execute_result"
    }
   ],
   "source": [
    "predict(\"Arjith Singh's music album released\")"
   ]
  },
  {
   "cell_type": "code",
   "execution_count": 36,
   "metadata": {
    "execution": {
     "iopub.execute_input": "2021-07-14T04:36:55.651909Z",
     "iopub.status.busy": "2021-07-14T04:36:55.651734Z",
     "iopub.status.idle": "2021-07-14T04:36:55.685381Z",
     "shell.execute_reply": "2021-07-14T04:36:55.684784Z",
     "shell.execute_reply.started": "2021-07-14T04:36:55.651889Z"
    }
   },
   "outputs": [
    {
     "data": {
      "text/plain": [
       "(3, 'RateBook')"
      ]
     },
     "execution_count": 36,
     "metadata": {},
     "output_type": "execute_result"
    }
   ],
   "source": [
    "predict(\"this novel deserves a rating of 10\")"
   ]
  },
  {
   "cell_type": "code",
   "execution_count": null,
   "metadata": {},
   "outputs": [],
   "source": []
  },
  {
   "cell_type": "markdown",
   "metadata": {},
   "source": [
    "Medium Article: https://medium.com/ai-techsystems/intent-classification-using-lstm-5067d283c10a"
   ]
  },
  {
   "cell_type": "code",
   "execution_count": null,
   "metadata": {},
   "outputs": [],
   "source": []
  },
  {
   "cell_type": "code",
   "execution_count": null,
   "metadata": {},
   "outputs": [],
   "source": []
  }
 ],
 "metadata": {
  "kernelspec": {
   "display_name": "Python 3",
   "language": "python",
   "name": "python3"
  },
  "language_info": {
   "codemirror_mode": {
    "name": "ipython",
    "version": 3
   },
   "file_extension": ".py",
   "mimetype": "text/x-python",
   "name": "python",
   "nbconvert_exporter": "python",
   "pygments_lexer": "ipython3",
   "version": "3.8.5"
  }
 },
 "nbformat": 4,
 "nbformat_minor": 4
}
